import numpy as np
import pandas as pd
import matplotlib.pyplot as plt
import json
import seaborn as sns

# Set plotting style
plt.style.use('seaborn-v0_8')
sns.set_palette("husl")# FEM Simulation Dataset Exploration

This notebook provides examples of how to load and explore the generated FEM simulation dataset.