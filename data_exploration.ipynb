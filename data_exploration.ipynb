{
 "cells": [
  {
   "cell_type": "markdown",
   "metadata": {},
   "source": [
    "# 📐 Optimization and Validation Dataset Explorer\n",
    "\n",
    "Interactive exploration of FEM validation, PSO-based defect identification, and sintering optimization data.\n",
    "\n",
    "---"
   ]
  },
  {
   "cell_type": "code",
   "execution_count": null,
   "metadata": {},
   "outputs": [],
   "source": [
    "import numpy as np\n",
    "import pandas as pd\n",
    "import matplotlib.pyplot as plt\n",
    "import json\n",
    "from scipy import stats\n",
    "\n",
    "# Configure plotting\n",
    "plt.style.use('seaborn-v0_8-darkgrid')\n",
    "plt.rcParams['figure.figsize'] = (12, 6)\n",
    "\n",
    "print(\"✅ Libraries loaded successfully\")"
   ]
  },
  {
   "cell_type": "markdown",
   "metadata": {},
   "source": [
    "## 1. Load All Datasets"
   ]
  },
  {
   "cell_type": "code",
   "execution_count": null,
   "metadata": {},
   "outputs": [],
   "source": [
    "# Load datasets\n",
    "stress_strain = pd.read_csv('optimization_datasets/stress_strain_profiles.csv')\n",
    "crack_depth = pd.read_csv('optimization_datasets/crack_depth_estimates.csv')\n",
    "sintering = pd.read_csv('optimization_datasets/sintering_parameters.csv')\n",
    "geometric = pd.read_csv('optimization_datasets/geometric_designs.csv')\n",
    "pso_history = pd.read_csv('optimization_datasets/pso_optimization_history.csv')\n",
    "\n",
    "print(\"📊 Dataset Summary:\")\n",
    "print(f\"  - Stress/Strain profiles: {len(stress_strain)} rows\")\n",
    "print(f\"  - Crack depth estimates: {len(crack_depth)} rows\")\n",
    "print(f\"  - Sintering parameters: {len(sintering)} rows\")\n",
    "print(f\"  - Geometric designs: {len(geometric)} rows\")\n",
    "print(f\"  - PSO optimization history: {len(pso_history)} rows\")"
   ]
  }
 ],
 "metadata": {
  "kernelspec": {
   "display_name": "Python 3",
   "language": "python",
   "name": "python3"
  },
  "language_info": {
   "name": "python",
   "version": "3.8.0"
  }
 },
 "nbformat": 4,
 "nbformat_minor": 4
}
