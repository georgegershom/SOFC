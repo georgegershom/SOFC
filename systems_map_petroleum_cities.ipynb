# Interactive time series with Plotly

palette = px.colors.qualitative.Dark24

fig = go.Figure()

series_names = ['Environment Degradation', 'Livelihood Security', 'Socio-Economic Fragility', 'Trust in Governance', 'Institutional Strength', 'Oil Sector Dominance', 'CVI', 'HHI']

for i, (name, r) in enumerate(results.items()):
    T = r['T']
    Y = r['Y']
    CVI = r['CVI']
    HHI = r['HHI']

    # Add main states
    for j, sname in enumerate(series_names[:6]):
        fig.add_trace(go.Scatter(x=T, y=Y[j, :], mode='lines', name=f"{name} — {sname}", line=dict(color=palette[j % len(palette)], width=2), legendgroup=name, showlegend=(i == 0)))

    # Add CVI and HHI
    fig.add_trace(go.Scatter(x=T, y=CVI, mode='lines', name=f"{name} — CVI", line=dict(color=palette[6 % len(palette)], width=3, dash='dash'), legendgroup=name, showlegend=(i == 0)))
    fig.add_trace(go.Scatter(x=T, y=HHI, mode='lines', name=f"{name} — HHI", line=dict(color=palette[7 % len(palette)], width=3, dash='dot'), legendgroup=name, showlegend=(i == 0)))

    # Add shock markers
    for when, _ in r['shocks']:
        fig.add_vline(x=when, line_color='rgba(150,150,150,0.5)', line_dash='dot')

# Target reference bands
fig.add_hrect(y0=0.70, y1=0.74, fillcolor='rgba(255,0,0,0.05)', line_width=0, annotation_text='Target HHI≈0.72', annotation_position='top left')

fig.update_layout(
    title='Reinforcing Loops: States, CVI, and HHI across Scenarios',
    xaxis_title='Time',
    yaxis_title='Normalized [0,1]',
    template='plotly_white',
    height=700,
)

fig_path_html = OUTPUT_DIR / 'time_series.html'
fig.write_html(str(fig_path_html))
fig# Calibration to stylized targets and scenario definitions

# 1) Calibrate parameters
params0 = ModelParams()
params_star = calibrate(params0, target_corr=0.78, target_hhi=0.72)

# 2) Define shocks: oil price crash, major spill, trust-building intervention

def shock_major_spill(delta: float = 0.25):
    def _fn(y: np.ndarray) -> np.ndarray:
        y2 = y.copy()
        y2[0] = clamp01(y2[0] + delta)    # env degradation jumps
        y2[1] = clamp01(y2[1] - 0.10)     # livelihood dips
        return y2
    return _fn


def shock_oil_price_crash(delta_dom: float = -0.20):
    def _fn(y: np.ndarray) -> np.ndarray:
        y2 = y.copy()
        y2[5] = clamp01(y2[5] + delta_dom)  # oil dominance shrinks
        y2[1] = clamp01(y2[1] - 0.05)       # short-term livelihood hit
        return y2
    return _fn


def shock_trust_building(delta_trust: float = 0.20, delta_inst: float = 0.15):
    def _fn(y: np.ndarray) -> np.ndarray:
        y2 = y.copy()
        y2[3] = clamp01(y2[3] + delta_trust)
        y2[4] = clamp01(y2[4] + delta_inst)
        return y2
    return _fn

scenarios = {
    'Baseline': [],
    'Major Spill @ t=10': [(10.0, shock_major_spill(0.30))],
    'Oil Price Crash @ t=15': [(15.0, shock_oil_price_crash(-0.25))],
    'Trust-Building Program @ t=8, t=20': [(8.0, shock_trust_building(0.25, 0.20)), (20.0, shock_trust_building(0.20, 0.15))],
    'Combined Stressors': [
        (8.0, shock_major_spill(0.25)),
        (12.0, shock_oil_price_crash(-0.20)),
        (18.0, shock_trust_building(0.20, 0.15)),
    ],
}

# 3) Run simulations
results = {}
for name, shock_list in scenarios.items():
    T, Y = simulate(params_star, T=50.0, dt=0.1, shocks=shock_list)
    CVI = compute_cvi(Y)
    HHI = herfindahl_hirschman_index(Y[5, :])
    stats = summarize_stats(T, Y)
    stats['scenario'] = name
    results[name] = {
        'T': T,
        'Y': Y,
        'CVI': CVI,
        'HHI': HHI,
        'stats': stats,
        'shocks': shock_list,
    }

# 4) Save stats
stats_df = pd.DataFrame([v['stats'] for v in results.values()])
stats_path = OUTPUT_DIR / 'scenario_stats.csv'
stats_df.to_csv(stats_path, index=False)
stats_df

# Core
import math
import json
from dataclasses import dataclass
from typing import Dict, Tuple, List, Callable

# Numerical & data
import numpy as np
import pandas as pd
from scipy.integrate import solve_ivp
from scipy.optimize import minimize

# Plotting
import plotly.graph_objects as go
import plotly.express as px

# Graph rendering
try:
    import graphviz
    GRAPHVIZ_AVAILABLE = True
except Exception:
    GRAPHVIZ_AVAILABLE = False

# I/O
from pathlib import Path

# Reproducibility
np.random.seed(42)

# Output paths
OUTPUT_DIR = Path('/workspace/outputs')
OUTPUT_DIR.mkdir(parents=True, exist_ok=True)

@dataclass
class ModelParams:
    # R1: Environment-Livelihood loop
    spill_shock_rate: float = 0.12         # exogenous shock intensity
    artisanal_refining_intensity: float = 0.35  # how strongly desperation feeds refining
    environment_recovery_rate: float = 0.06     # natural recovery of ecosystems

    # R2: Governance failure loop
    trust_erosion_sensitivity: float = 0.45     # sensitivity of trust to fragility
    institution_weakening_rate: float = 0.35    # how fast institutions weaken as trust declines
    governance_repair_rate: float = 0.08        # capacity to rebuild institutions/trust

    # R3: Economic diversification failure loop
    oil_dominance_growth: float = 0.25          # path dependence toward oil dominance
    crowd_out_strength: float = 0.35            # effect of dominance crowding out alternatives
    diversification_rate: float = 0.06          # slow shift to alternatives

    # Cross-loop couplings
    env_to_fragility: float = 0.60              # env degradation raises socio-economic fragility
    fragility_to_informal: float = 0.50         # fragility spurs informal activity (e.g., refining)
    institutions_to_response: float = 0.65      # stronger institutions improve response, reduce shocks
    oil_to_trust_erosion: float = 0.25          # oil dominance erodes trust (rentier dynamics)
    env_to_oil_reliance: float = 0.20           # degraded env increases reliance on oil jobs

    # Saturation / nonlinearity controls
    k_env: float = 2.0
    k_trust: float = 2.0
    k_inst: float = 2.0
    k_dom: float = 2.0

    # Noise for realism (turned off by default)
    noise_sigma: float = 0.0


def logistic(x: np.ndarray | float, k: float = 2.0) -> np.ndarray | float:
    # Squashing to (0,1)
    return 1.0 / (1.0 + np.exp(-k * (x - 0.5)))


def clamp01(x: np.ndarray | float) -> np.ndarray | float:
    return np.minimum(1.0, np.maximum(0.0, x))


def odes(t: float, y: np.ndarray, p: ModelParams) -> np.ndarray:
    # State vector y
    # y[0] = environment_degradation in [0,1] (higher = worse)
    # y[1] = livelihood_security in [0,1] (higher = better)
    # y[2] = socio_economic_fragility in [0,1] (higher = worse)
    # y[3] = trust_in_governance in [0,1] (higher = better)
    # y[4] = institutions_strength in [0,1] (higher = better)
    # y[5] = oil_sector_dominance in [0,1] (higher = more dominant)

    env_deg, livelihood, fragility, trust, institutions, oil_dom = y

    # Nonlinear saturations
    env_sig = logistic(env_deg, p.k_env)
    trust_sig = logistic(trust, p.k_trust)
    inst_sig = logistic(institutions, p.k_inst)
    dom_sig = logistic(oil_dom, p.k_dom)

    # Exogenous shock damped by institutional response
    effective_spill = p.spill_shock_rate * (1.0 - p.institutions_to_response * inst_sig)

    # R1: Environment <-> Livelihood loop
    # Environmental degradation increases via shocks + artisanal refining feedback, recovers naturally
    artisanal_activity = p.artisanal_refining_intensity * logistic(fragility, 2.0) * (1.0 - livelihood)
    d_env = effective_spill + artisanal_activity - p.environment_recovery_rate * env_sig

    # Livelihood declines with environment degradation and crowd-out; improves with diversification
    livelihood_pressure = 0.50 * env_sig + 0.30 * dom_sig
    d_liv = -livelihood_pressure * (1.0 - livelihood) + p.diversification_rate * (1.0 - dom_sig) * (1.0 - env_sig)

    # Fragility increases with environment degradation and weak institutions; decreases with livelihood
    d_frag = p.env_to_fragility * env_sig + 0.40 * (1.0 - inst_sig) - 0.35 * livelihood - 0.10 * trust_sig

    # R2: Governance failure
    trust_erosion = p.trust_erosion_sensitivity * logistic(fragility, 2.0) + p.oil_to_trust_erosion * dom_sig
    d_trust = -trust_erosion * trust + p.governance_repair_rate * inst_sig * (1.0 - trust)

    d_inst = -p.institution_weakening_rate * logistic(1.0 - trust, 2.0) * institutions + p.governance_repair_rate * trust * (1.0 - institutions)

    # R3: Economic diversification failure
    # Oil dominance grows with path dependence, weak institutions, and reliance from env damage; reduces with diversification
    reliance = p.env_to_oil_reliance * env_sig
    d_dom = p.oil_dominance_growth * (dom_sig + 0.4 * (1.0 - inst_sig)) + reliance - p.diversification_rate * (1.0 - env_sig) * (1.0 - dom_sig)

    # Add optional small process noise to reflect unmodeled variability
    if p.noise_sigma > 0.0:
        noise = np.random.normal(0.0, p.noise_sigma, size=6)
    else:
        noise = 0.0

    dydt = np.array([d_env, d_liv, d_frag, d_trust, d_inst, d_dom], dtype=float) + noise
    return dydt


def simulate(p: ModelParams, T: float = 50.0, dt: float = 0.1, y0: np.ndarray | None = None,
             shocks: List[Tuple[float, Callable[[np.ndarray], np.ndarray]]] | None = None) -> Tuple[np.ndarray, np.ndarray]:
    t_eval = np.arange(0.0, T + 1e-9, dt)

    if y0 is None:
        y0 = np.array([
            0.35,  # env_deg
            0.60,  # livelihood
            0.40,  # fragility
            0.55,  # trust
            0.55,  # institutions
            0.65,  # oil dominance
        ], dtype=float)

    # Apply discrete shocks by splitting integration windows
    times = [0.0]
    if shocks:
        for when, _ in shocks:
            if 0.0 < when < T:
                times.append(when)
    times.append(T)
    times = sorted(set(times))

    sol_t = []
    sol_y = []
    y_current = y0.copy()
    for i in range(len(times) - 1):
        t0, t1 = times[i], times[i + 1]
        local_eval = t_eval[(t_eval >= t0 - 1e-9) & (t_eval <= t1 + 1e-9)]
        if len(local_eval) == 0:
            continue

        res = solve_ivp(lambda t, y: odes(t, y, p), (t0, t1), y_current, t_eval=local_eval, method='RK45', rtol=1e-6, atol=1e-8)
        if not res.success:
            raise RuntimeError(f"Integration failed: {res.message}")

        if i == 0:
            sol_t.append(res.t)
            sol_y.append(res.y)
        else:
            sol_t.append(res.t[1:])
            sol_y.append(res.y[:, 1:])

        y_current = res.y[:, -1]

        # Apply shock at boundary
        if shocks:
            for when, fn in shocks:
                if abs(t1 - when) < 1e-9:
                    y_current = fn(y_current)
                    y_current = clamp01(y_current)

    T_all = np.concatenate(sol_t)
    Y_all = np.concatenate(sol_y, axis=1)

    # Clamp to [0,1] for safety
    Y_all = np.clip(Y_all, 0.0, 1.0)
    return T_all, Y_all


def compute_cvi(Y: np.ndarray, weights: Dict[str, float] | None = None) -> np.ndarray:
    # Composite Vulnerability Index (higher = worse)
    # Y rows: [env_deg, livelihood, fragility, trust, institutions, oil_dom]
    if weights is None:
        weights = {
            'env_deg': 0.25,
            'livelihood': 0.15,     # inverse
            'fragility': 0.20,
            'trust': 0.15,          # inverse
            'institutions': 0.10,   # inverse
            'oil_dom': 0.15,
        }
    w = np.array([
        weights['env_deg'],
        weights['livelihood'],
        weights['fragility'],
        weights['trust'],
        weights['institutions'],
        weights['oil_dom'],
    ], dtype=float)

    X = Y.copy()
    X[1, :] = 1.0 - X[1, :]  # livelihood inverse
    X[3, :] = 1.0 - X[3, :]  # trust inverse
    X[4, :] = 1.0 - X[4, :]  # institutions inverse

    # Normalize weights
    w = w / w.sum()
    cvi = np.tensordot(w, X, axes=(0, 0))
    return cvi


def herfindahl_hirschman_index(oil_dom: np.ndarray) -> np.ndarray:
    # Stylized HHI: assume two-sector economy: oil vs non-oil share proxy
    # Map dominance in [0,1] to share via sigmoid for realism
    oil_share = logistic(oil_dom, 3.0)
    non_oil_share = 1.0 - oil_share
    hhi = oil_share**2 + non_oil_share**2
    return hhi


def summarize_stats(T: np.ndarray, Y: np.ndarray) -> Dict[str, float]:
    env_deg = Y[0, :]
    fragility = Y[2, :]
    oil_dom = Y[5, :]

    corr_env_frag = float(pd.Series(env_deg).corr(pd.Series(fragility)))
    hhi_mean = float(herfindahl_hirschman_index(oil_dom).mean())

    return {
        'corr_env_fragility': corr_env_frag,
        'hhi_mean': hhi_mean,
        'final_cvi': float(compute_cvi(Y)[-1]),
    }


def calibrate(p0: ModelParams, target_corr: float = 0.78, target_hhi: float = 0.72) -> ModelParams:
    # Simple calibration of a few key parameters to hit stylized targets
    var_bounds = {
        'env_to_fragility': (0.2, 1.0),
        'institutions_to_response': (0.2, 0.9),
        'oil_dominance_growth': (0.10, 0.40),
        'crowd_out_strength': (0.10, 0.60),
        'diversification_rate': (0.02, 0.15),
    }

    x0 = np.array([
        p0.env_to_fragility,
        p0.institutions_to_response,
        p0.oil_dominance_growth,
        p0.crowd_out_strength,
        p0.diversification_rate,
    ], dtype=float)

    bounds = [var_bounds['env_to_fragility'], var_bounds['institutions_to_response'], var_bounds['oil_dominance_growth'], var_bounds['crowd_out_strength'], var_bounds['diversification_rate']]

    def unpack(x: np.ndarray) -> ModelParams:
        p = ModelParams(**vars(p0))
        p.env_to_fragility = float(x[0])
        p.institutions_to_response = float(x[1])
        p.oil_dominance_growth = float(x[2])
        p.crowd_out_strength = float(x[3])
        p.diversification_rate = float(x[4])
        return p

    def objective(x: np.ndarray) -> float:
        p = unpack(x)
        T, Y = simulate(p, T=40.0, dt=0.2)
        stats = summarize_stats(T, Y)
        corr_err = (stats['corr_env_fragility'] - target_corr) ** 2
        hhi_err = (stats['hhi_mean'] - target_hhi) ** 2
        # Penalize instability (values blowing to bounds)
        penalty = float(np.mean((Y < 0.001) | (Y > 0.999)))
        return corr_err + hhi_err + 0.1 * penalty

    res = minimize(objective, x0=x0, method='Powell', bounds=bounds, options={'maxiter': 80, 'xtol': 1e-3, 'ftol': 1e-3})
    p_star = unpack(res.x)
    return p_star
## Systems Map and Simulation of Reinforcing Feedback Loops in Nigeria's Petroleum Cities

This notebook implements an advanced, professional system dynamics model and visualization of the dominant reinforcing loops identified in petroleum cities (Port Harcourt, Warri, Bonny):

- **R1: Livelihood–Environment Degradation**
- **R2: Governance Failure**
- **R3: Economic Diversification Failure**

We simulate coupled nonlinear ODEs, generate interactive figures, and render a systems map with clustered loops. The model produces a composite vulnerability index (CVI) and validates stylized facts (e.g., correlation between environmental degradation and socio-economic deprivation, and high sector concentration akin to HHI ≈ 0.72).