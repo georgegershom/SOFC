# Interactive Systems Dynamics Analysis: Petroleum Cities

This notebook provides interactive exploration of the reinforcing feedback loops model.

## Research Context
Based on the Nigeria petroleum cities study (Port Harcourt, Warri, Bonny), this model simulates:
- **R1**: Livelihood-Environment Degradation Loop
- **R2**: Governance Failure Loop  
- **R3**: Economic Diversification Failure Loop