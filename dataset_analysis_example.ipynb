{
  "cells": [
    {
      "cell_type": "markdown",
      "metadata": {},
      "source": [
        "# Multi-Physics FEM Dataset Analysis Example\n\nThis notebook demonstrates how to load, analyze, and visualize the generated numerical simulation dataset."
      ]
    },
    {
      "cell_type": "code",
      "execution_count": null,
      "metadata": {},
      "outputs": [],
      "source": [
        "import pandas as pd\nimport numpy as np\nimport matplotlib.pyplot as plt\nimport json\nfrom pathlib import Path\n\n# Set plotting style\nplt.style.use('default')\n%matplotlib inline"
      ]
    },
    {
      "cell_type": "markdown",
      "metadata": {},
      "source": [
        "## 1. Load Dataset Metadata"
      ]
    },
    {
      "cell_type": "code",
      "execution_count": null,
      "metadata": {},
      "outputs": [],
      "source": [
        "# Load metadata\nwith open('fem_simulation_data/dataset_metadata.json', 'r') as f:\n    metadata = json.load(f)\n\nprint('Dataset Information:')\nprint(f'  Generated: {metadata[\"metadata\"][\"generated_at\"]}')\nprint(f'  Physics: {\", \".join(metadata[\"metadata\"][\"physics\"])}')\nprint(f'  Time steps: {metadata[\"metadata\"][\"n_time_steps\"]}')\nprint(f'  Duration: {metadata[\"metadata\"][\"total_duration\"]:.1f} s')"
      ]
    },
    {
      "cell_type": "markdown",
      "metadata": {},
      "source": [
        "## 2. Load and Analyze Data"
      ]
    },
    {
      "cell_type": "code",
      "execution_count": null,
      "metadata": {},
      "outputs": [],
      "source": [
        "# Load simulation summary\nsummary = pd.read_csv('fem_simulation_data/simulation_summary.csv')\nprint('Simulation Summary:')\nsummary.head()"
      ]
    },
    {
      "cell_type": "code",
      "execution_count": null,
      "metadata": {},
      "outputs": [],
      "source": [
        "# Plot damage evolution\nfig, ax = plt.subplots(figsize=(12, 6))\nax.plot(summary['time']/60, summary['max_damage']*100, 'r-', linewidth=2.5, label='Max Damage')\nax.plot(summary['time']/60, summary['avg_damage']*100, 'b--', linewidth=2.5, label='Avg Damage')\nax.set_xlabel('Time (minutes)', fontsize=14)\nax.set_ylabel('Damage (%)', fontsize=14)\nax.set_title('Damage Evolution During Thermal Cycling', fontsize=16, fontweight='bold')\nax.legend(fontsize=12)\nax.grid(True, alpha=0.3)\nplt.tight_layout()\nplt.show()"
      ]
    }
  ],
  "metadata": {
    "kernelspec": {
      "display_name": "Python 3",
      "language": "python",
      "name": "python3"
    },
    "language_info": {
      "name": "python",
      "version": "3.8.0"
    }
  },
  "nbformat": 4,
  "nbformat_minor": 4
}